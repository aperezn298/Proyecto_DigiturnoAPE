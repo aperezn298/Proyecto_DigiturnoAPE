{
 "cells": [
  {
   "cell_type": "code",
   "execution_count": null,
   "metadata": {},
   "outputs": [
    {
     "data": {
      "text/plain": [
       "Traceback (most recent call last):\n",
       "  File \"c:\\Users\\angel\\.vscode\\extensions\\ms-python.python-2024.22.0-win32-x64\\python_files\\python_server.py\", line 133, in exec_user_input\n",
       "    retval = callable_(user_input, user_globals)\n",
       "             ^^^^^^^^^^^^^^^^^^^^^^^^^^^^^^^^^^^\n",
       "  File \"<string>\", line 7, in <module>\n",
       "ImportError: cannot import name 'EdgeDriverManager' from 'webdriver_manager.microsoft' (c:\\Users\\angel\\OneDrive\\Escritorio\\Digiturno\\Digiturno-APE-Backend-Python\\Digiturno-ape-backend\\Lib\\site-packages\\webdriver_manager\\microsoft.py)\n",
       "\n"
      ]
     },
     "metadata": {},
     "output_type": "display_data"
    }
   ],
   "source": [
    "\n",
    "from selenium import webdriver\n",
    "from selenium.webdriver.common.by import By\n",
    "from selenium.webdriver.common.action_chains import ActionChains\n",
    "from selenium.webdriver.support.ui import WebDriverWait\n",
    "from selenium.webdriver.support import expected_conditions as EC\n",
    "from selenium.webdriver.common.keys import Keys\n",
    "from selenium.webdriver.chrome.service import Service\n",
    "from selenium.webdriver.support.ui import Select\n",
    "from selenium.common.exceptions import TimeoutException\n",
    "import time\n",
    "\n"
   ]
  },
  {
   "cell_type": "code",
   "execution_count": null,
   "metadata": {},
   "outputs": [
    {
     "data": {
      "text/plain": [
       "Error durante la verificación: Message: Unable to obtain driver for chrome; For documentation on this error, please visit: https://www.selenium.dev/documentation/webdriver/troubleshooting/errors/driver_location\n",
       "\n",
       "Resultado: False\n"
      ]
     },
     "metadata": {},
     "output_type": "display_data"
    }
   ],
   "source": [
    "\n",
    "def verificar_usuario(numero_documento: str, email: str, servicio_id: int) -> bool:\n",
    "    # Si el servicioId es 1, devolver True directamente\n",
    "    if servicio_id == 1:\n",
    "        return True\n",
    "\n",
    "    driver = None\n",
    "    try:\n",
    "        # Configuración del navegador (asegúrate de tener ChromeDriver instalado)\n",
    "        service = Service('../../chromedriver-win64/chromedriver.exe')\n",
    "        options = webdriver.ChromeOptions()\n",
    "        options.add_argument(\"--headless\")  # Ejecutar en modo headless\n",
    "        options.add_argument(\"--no-sandbox\")\n",
    "        options.add_argument(\"--disable-dev-shm-usage\")\n",
    "        options.binary_location = \"../../chromedriver-win64/ChromeSetup.exe\"  # Ruta al ejecutable de Chrome\n",
    "        # Inicializar el driver\n",
    "        driver = webdriver.Chrome(service=service, options=options)\n",
    "        wait = WebDriverWait(driver, 20)\n",
    "\n",
    "        # Navegar al sitio web\n",
    "        driver.get(\"https://agenciapublicadeempleo.sena.edu.co/spe-web/spe/registro/buscador#\")\n",
    "\n",
    "        # Aceptar términos y condiciones\n",
    "        accept_button = wait.until(EC.element_to_be_clickable((By.ID, \"btnAceptoB\")))\n",
    "        accept_button.click()\n",
    "\n",
    "        # Esperar a que el formulario esté presente\n",
    "        wait.until(EC.presence_of_element_located((By.ID, \"_tipoDocumento\")))\n",
    "\n",
    "        # Llenar el formulario\n",
    "        tipo_documento = Select(driver.find_element(By.ID, \"_tipoDocumento\"))\n",
    "        tipo_documento.select_by_value(\"1\")  # Cédula de Ciudadanía\n",
    "\n",
    "        numero_documento_input = driver.find_element(By.ID, \"_numeroDocumento\")\n",
    "        numero_documento_input.send_keys(numero_documento)\n",
    "\n",
    "        email_input = driver.find_element(By.ID, \"_email\")\n",
    "        email_input.send_keys(email)\n",
    "\n",
    "        # Enviar el formulario\n",
    "        submit_button = driver.find_element(By.CSS_SELECTOR, \"button.btn-success\")\n",
    "        submit_button.click()\n",
    "\n",
    "        # Esperar la respuesta de la página\n",
    "        time.sleep(2)  # Ajusta esto si necesitas más tiempo\n",
    "\n",
    "        # Verificar si existe un error\n",
    "        try:\n",
    "            error_element = wait.until(EC.presence_of_element_located((By.ID, \"numeroDocumento.errors\")))\n",
    "            return False  # Retorna False si existe un error\n",
    "        except TimeoutException:\n",
    "            return True  # Retorna True si no hay error\n",
    "\n",
    "    except Exception as e:\n",
    "        print(\"Error durante la verificación:\", e)\n",
    "        return False\n",
    "    finally:\n",
    "        if driver:\n",
    "            driver.quit()\n",
    "\n",
    "\n",
    "resultado = verificar_usuario(\"1234567890\", \"usuario@correo.com\", 2)\n",
    "print(\"Resultado:\", resultado)\n",
    "\n",
    "# Ejemplo de uso\n",
    "# numero_documento = \"1234567890\"\n",
    "# email = \"usuario@correo.com\"\n",
    "# servicio_id = 2\n",
    "\n",
    "# resultado = verificar_usuario(numero_documento, email, servicio_id)\n",
    "# print(\"Resultado:\", resultado)"
   ]
  },
  {
   "cell_type": "code",
   "execution_count": null,
   "metadata": {},
   "outputs": [
    {
     "data": {
      "text/plain": [
       "Error durante la verificación: Message: Unable to obtain driver for chrome; For documentation on this error, please visit: https://www.selenium.dev/documentation/webdriver/troubleshooting/errors/driver_location\n",
       "\n",
       "False\n"
      ]
     },
     "metadata": {},
     "output_type": "display_data"
    }
   ],
   "source": [
    "result = verificar_usuario(\"1234567890\", \"angel@gmail.com\", 3)\n",
    "\n",
    "print(result)"
   ]
  }
 ],
 "metadata": {
  "language_info": {
   "name": "python"
  }
 },
 "nbformat": 4,
 "nbformat_minor": 2
}
